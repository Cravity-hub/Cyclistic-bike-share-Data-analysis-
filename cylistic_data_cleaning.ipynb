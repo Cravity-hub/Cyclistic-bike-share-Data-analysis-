{
 "cells": [
  {
   "cell_type": "markdown",
   "metadata": {},
   "source": [
    "# CYCLISTIC RIDESHARE DATA ANALYSIS"
   ]
  },
  {
   "cell_type": "markdown",
   "metadata": {},
   "source": [
    "## Importing necessary libraries and loading the datasets. \n",
    "Here I wrote a function to import the monthly rideshare data from a folder in my local directory. \n",
    "I also concatenated all the datadrames into one big dataframe called data. "
   ]
  },
  {
   "cell_type": "code",
   "execution_count": 5,
   "metadata": {},
   "outputs": [],
   "source": [
    "import os\n",
    "import glob\n",
    "import pandas as pd\n",
    "import matplotlib.pyplot as plt\n",
    "import seaborn as sns\n"
   ]
  },
  {
   "cell_type": "code",
   "execution_count": 6,
   "metadata": {},
   "outputs": [],
   "source": [
    "# Loading the Datasets\n",
    "\n",
    "def import_csv_files_from_folder(folder_path):\n",
    "    \"\"\"\n",
    "    Import CSV files from a folder into a Pandas DataFrame.\n",
    "\n",
    "    Parameters:\n",
    "    folder_path (str): The path to the folder containing the CSV files.\n",
    "\n",
    "    Returns:\n",
    "    dict: A dictionary where keys are file names and values are Pandas DataFrames.\n",
    "    \"\"\"\n",
    "    data = {}  # Create an empty dictionary to store the DataFrames\n",
    "\n",
    "    # List all files in the folder\n",
    "    files = os.listdir(folder_path)\n",
    "\n",
    "    # Iterate through the files and read CSV files into DataFrames\n",
    "    for file_name in files:\n",
    "        if file_name.endswith('.csv'):\n",
    "            file_path = os.path.join(folder_path, file_name)\n",
    "            # Use the file name (without extension) as the dictionary key\n",
    "            key = os.path.splitext(file_name)[0]\n",
    "            data[key] = pd.read_csv(file_path)  # Read CSV into a DataFrame\n",
    "\n",
    "    return data\n",
    "\n",
    "# Example usage:\n",
    "folder_path = r\"C:\\Users\\TORITSEJU\\Documents\\Cyclistic Data Analysis\\Cyclistic Data\"\n",
    "# Replace with the path to your folder\n",
    "csv_data = import_csv_files_from_folder(folder_path)\n",
    "\n",
    "# Now, csv_data is a dictionary where keys are file names (without extensions)\n",
    "# and values are Pandas DataFrames containing the CSV data.\n"
   ]
  },
  {
   "cell_type": "code",
   "execution_count": 7,
   "metadata": {},
   "outputs": [],
   "source": [
    "data = pd.concat(csv_data, ignore_index= True)"
   ]
  },
  {
   "cell_type": "markdown",
   "metadata": {},
   "source": [
    "## A QUICK EXPLORATION OF THE DATA\n",
    "A quick dive into data shows that we have 5829084 rows and 13 columns. \n",
    "There are also missing data which we'll look at in more details soon. \n",
    "Some columns-esp the date columns - do not have the appropirate data types. "
   ]
  },
  {
   "cell_type": "code",
   "execution_count": 13,
   "metadata": {},
   "outputs": [
    {
     "data": {
      "text/html": [
       "<div>\n",
       "<style scoped>\n",
       "    .dataframe tbody tr th:only-of-type {\n",
       "        vertical-align: middle;\n",
       "    }\n",
       "\n",
       "    .dataframe tbody tr th {\n",
       "        vertical-align: top;\n",
       "    }\n",
       "\n",
       "    .dataframe thead th {\n",
       "        text-align: right;\n",
       "    }\n",
       "</style>\n",
       "<table border=\"1\" class=\"dataframe\">\n",
       "  <thead>\n",
       "    <tr style=\"text-align: right;\">\n",
       "      <th></th>\n",
       "      <th>ride_id</th>\n",
       "      <th>rideable_type</th>\n",
       "      <th>started_at</th>\n",
       "      <th>ended_at</th>\n",
       "      <th>start_station_name</th>\n",
       "      <th>start_station_id</th>\n",
       "      <th>end_station_name</th>\n",
       "      <th>end_station_id</th>\n",
       "      <th>start_lat</th>\n",
       "      <th>start_lng</th>\n",
       "      <th>end_lat</th>\n",
       "      <th>end_lng</th>\n",
       "      <th>member_casual</th>\n",
       "    </tr>\n",
       "  </thead>\n",
       "  <tbody>\n",
       "    <tr>\n",
       "      <th>0</th>\n",
       "      <td>3564070EEFD12711</td>\n",
       "      <td>electric_bike</td>\n",
       "      <td>2022-04-06 17:42:48</td>\n",
       "      <td>2022-04-06 17:54:36</td>\n",
       "      <td>Paulina St &amp; Howard St</td>\n",
       "      <td>515</td>\n",
       "      <td>University Library (NU)</td>\n",
       "      <td>605</td>\n",
       "      <td>42.019135</td>\n",
       "      <td>-87.673532</td>\n",
       "      <td>42.052939</td>\n",
       "      <td>-87.673447</td>\n",
       "      <td>member</td>\n",
       "    </tr>\n",
       "    <tr>\n",
       "      <th>1</th>\n",
       "      <td>0B820C7FCF22F489</td>\n",
       "      <td>classic_bike</td>\n",
       "      <td>2022-04-24 19:23:07</td>\n",
       "      <td>2022-04-24 19:43:17</td>\n",
       "      <td>Wentworth Ave &amp; Cermak Rd</td>\n",
       "      <td>13075</td>\n",
       "      <td>Green St &amp; Madison St</td>\n",
       "      <td>TA1307000120</td>\n",
       "      <td>41.853085</td>\n",
       "      <td>-87.631931</td>\n",
       "      <td>41.881892</td>\n",
       "      <td>-87.648789</td>\n",
       "      <td>member</td>\n",
       "    </tr>\n",
       "  </tbody>\n",
       "</table>\n",
       "</div>"
      ],
      "text/plain": [
       "            ride_id  rideable_type          started_at            ended_at  \\\n",
       "0  3564070EEFD12711  electric_bike 2022-04-06 17:42:48 2022-04-06 17:54:36   \n",
       "1  0B820C7FCF22F489   classic_bike 2022-04-24 19:23:07 2022-04-24 19:43:17   \n",
       "\n",
       "          start_station_name start_station_id         end_station_name  \\\n",
       "0     Paulina St & Howard St              515  University Library (NU)   \n",
       "1  Wentworth Ave & Cermak Rd            13075    Green St & Madison St   \n",
       "\n",
       "  end_station_id  start_lat  start_lng    end_lat    end_lng member_casual  \n",
       "0            605  42.019135 -87.673532  42.052939 -87.673447        member  \n",
       "1   TA1307000120  41.853085 -87.631931  41.881892 -87.648789        member  "
      ]
     },
     "execution_count": 13,
     "metadata": {},
     "output_type": "execute_result"
    }
   ],
   "source": [
    "data.head(2)"
   ]
  },
  {
   "cell_type": "code",
   "execution_count": 26,
   "metadata": {},
   "outputs": [],
   "source": [
    "# local_path = r'C:\\Users\\TORITSEJU\\Documents\\Cyclistic Data Analysis\\Cyclistic Data'\n",
    "\n",
    "# filenames = glob.glob(local_path + \"/*.csv\")\n",
    "\n",
    "# dfs = [pd.read_csv(filename) for filename in filenames]"
   ]
  },
  {
   "cell_type": "code",
   "execution_count": 8,
   "metadata": {},
   "outputs": [
    {
     "name": "stdout",
     "output_type": "stream",
     "text": [
      "<class 'pandas.core.frame.DataFrame'>\n",
      "RangeIndex: 5829084 entries, 0 to 5829083\n",
      "Data columns (total 13 columns):\n",
      " #   Column              Dtype  \n",
      "---  ------              -----  \n",
      " 0   ride_id             object \n",
      " 1   rideable_type       object \n",
      " 2   started_at          object \n",
      " 3   ended_at            object \n",
      " 4   start_station_name  object \n",
      " 5   start_station_id    object \n",
      " 6   end_station_name    object \n",
      " 7   end_station_id      object \n",
      " 8   start_lat           float64\n",
      " 9   start_lng           float64\n",
      " 10  end_lat             float64\n",
      " 11  end_lng             float64\n",
      " 12  member_casual       object \n",
      "dtypes: float64(4), object(9)\n",
      "memory usage: 578.1+ MB\n"
     ]
    }
   ],
   "source": [
    "data.info()"
   ]
  },
  {
   "cell_type": "markdown",
   "metadata": {},
   "source": [
    "## Data Pre-processing and Cleaning\n",
    "* Started_at and ended_at cdolumns were converted into datetime types. \n",
    "\n",
    "\n",
    "* Start month, weekday, hour_of_day were extracted from the started_at column.\n",
    "\n",
    "\n",
    "* Ride_length was calculated by subtracting started_at from ended_at\n",
    "\n",
    "\n",
    "* Missing entries were analysed and handled by replacing with \"unknown\".\n"
   ]
  },
  {
   "cell_type": "code",
   "execution_count": 23,
   "metadata": {},
   "outputs": [
    {
     "data": {
      "text/html": [
       "<div>\n",
       "<style scoped>\n",
       "    .dataframe tbody tr th:only-of-type {\n",
       "        vertical-align: middle;\n",
       "    }\n",
       "\n",
       "    .dataframe tbody tr th {\n",
       "        vertical-align: top;\n",
       "    }\n",
       "\n",
       "    .dataframe thead th {\n",
       "        text-align: right;\n",
       "    }\n",
       "</style>\n",
       "<table border=\"1\" class=\"dataframe\">\n",
       "  <thead>\n",
       "    <tr style=\"text-align: right;\">\n",
       "      <th></th>\n",
       "      <th>ride_id</th>\n",
       "      <th>rideable_type</th>\n",
       "      <th>started_at</th>\n",
       "      <th>ended_at</th>\n",
       "      <th>start_station_name</th>\n",
       "      <th>start_station_id</th>\n",
       "      <th>end_station_name</th>\n",
       "      <th>end_station_id</th>\n",
       "      <th>start_lat</th>\n",
       "      <th>start_lng</th>\n",
       "      <th>end_lat</th>\n",
       "      <th>end_lng</th>\n",
       "      <th>member_casual</th>\n",
       "      <th>month</th>\n",
       "      <th>weekday</th>\n",
       "      <th>ride_length</th>\n",
       "      <th>start_hour</th>\n",
       "    </tr>\n",
       "  </thead>\n",
       "  <tbody>\n",
       "    <tr>\n",
       "      <th>0</th>\n",
       "      <td>3564070EEFD12711</td>\n",
       "      <td>electric_bike</td>\n",
       "      <td>2022-04-06 17:42:48</td>\n",
       "      <td>2022-04-06 17:54:36</td>\n",
       "      <td>Paulina St &amp; Howard St</td>\n",
       "      <td>515</td>\n",
       "      <td>University Library (NU)</td>\n",
       "      <td>605</td>\n",
       "      <td>42.019135</td>\n",
       "      <td>-87.673532</td>\n",
       "      <td>42.052939</td>\n",
       "      <td>-87.673447</td>\n",
       "      <td>member</td>\n",
       "      <td>April</td>\n",
       "      <td>Wednesday</td>\n",
       "      <td>11.80</td>\n",
       "      <td>17</td>\n",
       "    </tr>\n",
       "    <tr>\n",
       "      <th>1</th>\n",
       "      <td>0B820C7FCF22F489</td>\n",
       "      <td>classic_bike</td>\n",
       "      <td>2022-04-24 19:23:07</td>\n",
       "      <td>2022-04-24 19:43:17</td>\n",
       "      <td>Wentworth Ave &amp; Cermak Rd</td>\n",
       "      <td>13075</td>\n",
       "      <td>Green St &amp; Madison St</td>\n",
       "      <td>TA1307000120</td>\n",
       "      <td>41.853085</td>\n",
       "      <td>-87.631931</td>\n",
       "      <td>41.881892</td>\n",
       "      <td>-87.648789</td>\n",
       "      <td>member</td>\n",
       "      <td>April</td>\n",
       "      <td>Sunday</td>\n",
       "      <td>20.17</td>\n",
       "      <td>19</td>\n",
       "    </tr>\n",
       "    <tr>\n",
       "      <th>2</th>\n",
       "      <td>89EEEE32293F07FF</td>\n",
       "      <td>classic_bike</td>\n",
       "      <td>2022-04-20 19:29:08</td>\n",
       "      <td>2022-04-20 19:35:16</td>\n",
       "      <td>Halsted St &amp; Polk St</td>\n",
       "      <td>TA1307000121</td>\n",
       "      <td>Green St &amp; Madison St</td>\n",
       "      <td>TA1307000120</td>\n",
       "      <td>41.871840</td>\n",
       "      <td>-87.646640</td>\n",
       "      <td>41.881892</td>\n",
       "      <td>-87.648789</td>\n",
       "      <td>member</td>\n",
       "      <td>April</td>\n",
       "      <td>Wednesday</td>\n",
       "      <td>6.13</td>\n",
       "      <td>19</td>\n",
       "    </tr>\n",
       "    <tr>\n",
       "      <th>3</th>\n",
       "      <td>84D4751AEB31888D</td>\n",
       "      <td>classic_bike</td>\n",
       "      <td>2022-04-22 21:14:06</td>\n",
       "      <td>2022-04-22 21:23:29</td>\n",
       "      <td>Wentworth Ave &amp; Cermak Rd</td>\n",
       "      <td>13075</td>\n",
       "      <td>Delano Ct &amp; Roosevelt Rd</td>\n",
       "      <td>KA1706005007</td>\n",
       "      <td>41.853085</td>\n",
       "      <td>-87.631931</td>\n",
       "      <td>41.867491</td>\n",
       "      <td>-87.632190</td>\n",
       "      <td>casual</td>\n",
       "      <td>April</td>\n",
       "      <td>Friday</td>\n",
       "      <td>9.38</td>\n",
       "      <td>21</td>\n",
       "    </tr>\n",
       "    <tr>\n",
       "      <th>4</th>\n",
       "      <td>5664BCF0D1DE7A8B</td>\n",
       "      <td>electric_bike</td>\n",
       "      <td>2022-04-16 15:56:30</td>\n",
       "      <td>2022-04-16 16:02:11</td>\n",
       "      <td>Halsted St &amp; Polk St</td>\n",
       "      <td>TA1307000121</td>\n",
       "      <td>Clinton St &amp; Madison St</td>\n",
       "      <td>TA1305000032</td>\n",
       "      <td>41.871808</td>\n",
       "      <td>-87.646574</td>\n",
       "      <td>41.882242</td>\n",
       "      <td>-87.641066</td>\n",
       "      <td>member</td>\n",
       "      <td>April</td>\n",
       "      <td>Saturday</td>\n",
       "      <td>5.68</td>\n",
       "      <td>15</td>\n",
       "    </tr>\n",
       "  </tbody>\n",
       "</table>\n",
       "</div>"
      ],
      "text/plain": [
       "            ride_id  rideable_type          started_at            ended_at  \\\n",
       "0  3564070EEFD12711  electric_bike 2022-04-06 17:42:48 2022-04-06 17:54:36   \n",
       "1  0B820C7FCF22F489   classic_bike 2022-04-24 19:23:07 2022-04-24 19:43:17   \n",
       "2  89EEEE32293F07FF   classic_bike 2022-04-20 19:29:08 2022-04-20 19:35:16   \n",
       "3  84D4751AEB31888D   classic_bike 2022-04-22 21:14:06 2022-04-22 21:23:29   \n",
       "4  5664BCF0D1DE7A8B  electric_bike 2022-04-16 15:56:30 2022-04-16 16:02:11   \n",
       "\n",
       "          start_station_name start_station_id          end_station_name  \\\n",
       "0     Paulina St & Howard St              515   University Library (NU)   \n",
       "1  Wentworth Ave & Cermak Rd            13075     Green St & Madison St   \n",
       "2       Halsted St & Polk St     TA1307000121     Green St & Madison St   \n",
       "3  Wentworth Ave & Cermak Rd            13075  Delano Ct & Roosevelt Rd   \n",
       "4       Halsted St & Polk St     TA1307000121   Clinton St & Madison St   \n",
       "\n",
       "  end_station_id  start_lat  start_lng    end_lat    end_lng member_casual  \\\n",
       "0            605  42.019135 -87.673532  42.052939 -87.673447        member   \n",
       "1   TA1307000120  41.853085 -87.631931  41.881892 -87.648789        member   \n",
       "2   TA1307000120  41.871840 -87.646640  41.881892 -87.648789        member   \n",
       "3   KA1706005007  41.853085 -87.631931  41.867491 -87.632190        casual   \n",
       "4   TA1305000032  41.871808 -87.646574  41.882242 -87.641066        member   \n",
       "\n",
       "   month    weekday  ride_length  start_hour  \n",
       "0  April  Wednesday        11.80          17  \n",
       "1  April     Sunday        20.17          19  \n",
       "2  April  Wednesday         6.13          19  \n",
       "3  April     Friday         9.38          21  \n",
       "4  April   Saturday         5.68          15  "
      ]
     },
     "execution_count": 23,
     "metadata": {},
     "output_type": "execute_result"
    }
   ],
   "source": [
    "data.started_at = pd.to_datetime(data.started_at)\n",
    "data.ended_at = pd.to_datetime(data.ended_at)\n",
    "\n",
    "#Extracting month, weekday, hour_of_day from started_at column\n",
    "data['month'] = data['started_at'].dt.month_name()\n",
    "data['weekday'] = data['started_at'].dt.day_name()\n",
    "data['start_hour'] = data['started_at'].dt.hour\n",
    "\n",
    "# Creating ride_length column from started_at and ended_at\n",
    "data['ride_length'] = data['ended_at'] - data['started_at']\n",
    "\n",
    "data['ride_length'] = round((data['ride_length'] / pd.Timedelta(minutes=1)),2)\n",
    "\n",
    "\n",
    "data.head()"
   ]
  },
  {
   "cell_type": "markdown",
   "metadata": {},
   "source": [
    "### Further Cleaning by Handling Misssing Entries\n",
    "\n",
    "Missing entries were found in the following columns:\n",
    "\n",
    "\n",
    "* start_station_name \n",
    "* start_station_id\n",
    "* end_station_name\n",
    "* end_station_id\n",
    "* end_lat\n",
    "* end_lng\n",
    "\n",
    "\n",
    "After carefully considering all the factors and the nature of missingness of the missing observations in the data, I decided it was best to fill the missing entries in the end_lat and end_lng columns with the mode. \n",
    "\n",
    "I also felt it was best to remove the other columns completely from the dataframe since they are not swignificant to the analysis. (Fingers crossed though)"
   ]
  },
  {
   "cell_type": "code",
   "execution_count": 67,
   "metadata": {},
   "outputs": [
    {
     "data": {
      "text/plain": [
       "ride_id          0\n",
       "rideable_type    0\n",
       "started_at       0\n",
       "ended_at         0\n",
       "start_lat        0\n",
       "start_lng        0\n",
       "end_lat          0\n",
       "end_lng          0\n",
       "member_casual    0\n",
       "month            0\n",
       "weekday          0\n",
       "ride_length      0\n",
       "start_hour       0\n",
       "dtype: int64"
      ]
     },
     "execution_count": 67,
     "metadata": {},
     "output_type": "execute_result"
    }
   ],
   "source": [
    "# check which columns have missing entries and how many.\n",
    "\n",
    "data.isna().sum()"
   ]
  },
  {
   "cell_type": "code",
   "execution_count": 61,
   "metadata": {},
   "outputs": [
    {
     "name": "stdout",
     "output_type": "stream",
     "text": [
      "0   -87.65\n",
      "Name: end_lng, dtype: float64\n",
      "0    41.93\n",
      "Name: end_lat, dtype: float64\n"
     ]
    }
   ],
   "source": [
    "# Filling the end_lat and end_lng with their modes (41.93, ) respectively\n",
    "end_lat_mode = data['end_lat'].mode()\n",
    "end_lng_mode = data['end_lng'].mode()\n",
    "\n",
    "print(end_lng_mode, end_lat_mode, sep = '\\n')\n",
    "\n",
    "\n",
    "data['end_lat'] = data['end_lat'].fillna(end_lat_mode)\n",
    "data['end_lng']  = data['end_lng'].fillna(-87.65)"
   ]
  },
  {
   "cell_type": "markdown",
   "metadata": {},
   "source": [
    "### Second Aproach of Handling Missing Data"
   ]
  },
  {
   "cell_type": "code",
   "execution_count": 66,
   "metadata": {},
   "outputs": [],
   "source": [
    "# We drop all the other columns with missing values\n",
    "\n",
    "data = data.dropna(axis=1)"
   ]
  },
  {
   "cell_type": "code",
   "execution_count": 37,
   "metadata": {},
   "outputs": [],
   "source": [
    "data_copy = data.copy()\n",
    "\n",
    "data_copy.dropna(inplace = True)"
   ]
  },
  {
   "cell_type": "markdown",
   "metadata": {},
   "source": [
    "#### Exporting Cleaned CSV File."
   ]
  },
  {
   "cell_type": "code",
   "execution_count": 78,
   "metadata": {},
   "outputs": [],
   "source": [
    "data.to_csv('cylistic_data.csv', index=False, header=True)"
   ]
  },
  {
   "cell_type": "markdown",
   "metadata": {},
   "source": [
    "## Exploratory Data Analysis"
   ]
  },
  {
   "cell_type": "code",
   "execution_count": 72,
   "metadata": {},
   "outputs": [
    {
     "data": {
      "text/plain": [
       "<Axes: >"
      ]
     },
     "execution_count": 72,
     "metadata": {},
     "output_type": "execute_result"
    },
    {
     "data": {
      "image/png": "[encoded data removed]",
      "text/plain": [
       "<Figure size 640x480 with 1 Axes>"
      ]
     },
     "metadata": {},
     "output_type": "display_data"
    }
   ],
   "source": [
    "data['month'].value_counts().plot(kind='barh')"
   ]
  },
  {
   "cell_type": "code",
   "execution_count": 75,
   "metadata": {},
   "outputs": [
    {
     "data": {
      "text/plain": [
       "<Axes: ylabel='ride_length'>"
      ]
     },
     "execution_count": 75,
     "metadata": {},
     "output_type": "execute_result"
    },
    {
     "data": {
      "image/png": "[encoded data removed]",
      "text/plain": [
       "<Figure size 640x480 with 1 Axes>"
      ]
     },
     "metadata": {},
     "output_type": "display_data"
    }
   ],
   "source": [
    "data.groupby('member_casual')['ride_length'].mean().plot(kind= 'pie')"
   ]
  },
  {
   "cell_type": "code",
   "execution_count": null,
   "metadata": {},
   "outputs": [],
   "source": []
  }
 ],
 "metadata": {
  "kernelspec": {
   "display_name": "Python 3",
   "language": "python",
   "name": "python3"
  },
  "language_info": {
   "codemirror_mode": {
    "name": "ipython",
    "version": 3
   },
   "file_extension": ".py",
   "mimetype": "text/x-python",
   "name": "python",
   "nbconvert_exporter": "python",
   "pygments_lexer": "ipython3",
   "version": "3.11.5"
  }
 },
 "nbformat": 4,
 "nbformat_minor": 4
}
